{
 "cells": [
  {
   "cell_type": "code",
   "execution_count": 6,
   "metadata": {
    "pycharm": {
     "name": "#%%\n"
    }
   },
   "outputs": [],
   "source": [
    "##########################################################\n",
    "#  Python script template for Question 1 (IAML Level 11)\n",
    "#  Note that\n",
    "#  - You should not change the name of this file, 'iaml01cw2_q1.py', which is the file name you should use when you submit your code for this question.\n",
    "#  - You should write code for the functions defined below. Do not change their names.\n",
    "#  - You can define function arguments (parameters) and returns (attributes) if necessary.\n",
    "#  - In case you define additional functions, do not define them here, but put them in a separate Python module file, \"iaml01cw2_my_helpers.py\", and import it in this script.\n",
    "#  - For those questions requiring you to show results in tables, your code does not need to present them in tables - just showing them with print() is fine.\n",
    "#  - You do not need to include this header in your submission.\n",
    "##########################################################\n",
    "\n",
    "#--- Code for loading modules and the data set and pre-processing --->\n",
    "# NB: You can edit the following and add code (e.g. code for loading sklearn) if necessary.\n",
    "\n"
   ]
  },
  {
   "cell_type": "code",
   "execution_count": 7,
   "metadata": {
    "pycharm": {
     "name": "#%%\n"
    }
   },
   "outputs": [
    {
     "name": "stdout",
     "output_type": "stream",
     "text": [
      "Sss\n",
      "Version: 0.19.1\n"
     ]
    }
   ],
   "source": [
    "import os\n",
    "import numpy as np\n",
    "import scipy\n",
    "import math\n",
    "import matplotlib.pyplot as plt\n",
    "from iaml01cw2_helpers import *\n",
    "import pandas as pd\n",
    "import sklearn\n",
    "from sklearn.decomposition import PCA\n",
    "from sklearn.metrics import mean_squared_error\n",
    "from math import sqrt\n",
    "\n",
    "print(\"Sss\")\n",
    "print(\"Version:\", sklearn.__version__)"
   ]
  },
  {
   "cell_type": "markdown",
   "metadata": {},
   "source": [
    "## Q1"
   ]
  },
  {
   "cell_type": "code",
   "execution_count": 8,
   "metadata": {},
   "outputs": [],
   "source": [
    "# Load data"
   ]
  },
  {
   "cell_type": "code",
   "execution_count": 9,
   "metadata": {
    "pycharm": {
     "name": "#%%\n"
    }
   },
   "outputs": [],
   "source": [
    "data_path = os.path.join(os.getcwd(), 'data')\n",
    "Xtrn, Ytrn, Xtst, Ytst = load_FashionMNIST('../q1_data')\n",
    "# Xtrn"
   ]
  },
  {
   "cell_type": "code",
   "execution_count": 10,
   "metadata": {
    "pycharm": {
     "name": "#%%\n"
    }
   },
   "outputs": [],
   "source": [
    "# print(Ytrn)\n",
    "#"
   ]
  },
  {
   "cell_type": "code",
   "execution_count": 11,
   "metadata": {
    "pycharm": {
     "name": "#%%\n"
    }
   },
   "outputs": [],
   "source": [
    "# print(Xtst)\n",
    "#"
   ]
  },
  {
   "cell_type": "code",
   "execution_count": 12,
   "metadata": {
    "pycharm": {
     "name": "#%%\n"
    }
   },
   "outputs": [],
   "source": [
    "# print(Ytst)"
   ]
  },
  {
   "cell_type": "code",
   "execution_count": 13,
   "metadata": {},
   "outputs": [],
   "source": [
    "# Data preprocessing\n",
    "\n",
    "\n",
    "# Step 1 Make backup of Xtrn and Xtst\n",
    "\n",
    "Xtrn_orig = Xtrn.copy()\n",
    "# Xtrn_orig\n",
    "\n",
    "\n",
    "Xtst_orig = Xtst.copy()\n",
    "# Xtst_orig\n",
    "\n",
    "# Step 2 Divide Xtrn and Xtst by 255.0\n",
    "\n",
    "\n",
    "Xtrn = Xtrn/255.0\n",
    "\n",
    "\n",
    "Xtst = Xtst/255.0\n",
    "\n",
    "# Step 3 Calculate the mean value of Xtrn for each dimension\n",
    "\n",
    "\n",
    "Xmean = Xtrn.mean(axis=0)\n",
    "\n",
    "\n",
    "# Xmean.shape\n",
    "\n",
    "\n",
    "# Xtrn.shape\n",
    "\n",
    "\n",
    "# Xtst.shape\n",
    "\n",
    "\n",
    "# Step 4 Substract Xmean fron each row of Xtrn and Xtst\n",
    "\n",
    "Xtrn_nm = Xtrn - Xmean\n",
    "\n",
    "Xtst_nm = Xtst - Xmean\n",
    "\n",
    "# Xtst_nm.shape"
   ]
  },
  {
   "cell_type": "markdown",
   "metadata": {},
   "source": [
    "### 1.1"
   ]
  },
  {
   "cell_type": "code",
   "execution_count": 14,
   "metadata": {},
   "outputs": [],
   "source": [
    "# Frist 4 elements in "
   ]
  },
  {
   "cell_type": "code",
   "execution_count": 15,
   "metadata": {},
   "outputs": [
    {
     "data": {
      "text/plain": [
       "array([-3.13725490e-06, -2.26797386e-05, -1.17973856e-04, -4.07058824e-04])"
      ]
     },
     "execution_count": 15,
     "metadata": {},
     "output_type": "execute_result"
    }
   ],
   "source": [
    "Xtrn_nm[0,:4]"
   ]
  },
  {
   "cell_type": "code",
   "execution_count": 16,
   "metadata": {
    "pycharm": {
     "name": "#%%\n"
    }
   },
   "outputs": [
    {
     "data": {
      "text/plain": [
       "array([-3.13725490e-06, -2.26797386e-05, -1.17973856e-04, -4.07058824e-04])"
      ]
     },
     "execution_count": 16,
     "metadata": {},
     "output_type": "execute_result"
    }
   ],
   "source": [
    "Xtrn_nm[-1,:4]"
   ]
  },
  {
   "cell_type": "markdown",
   "metadata": {},
   "source": [
    "### 1.2"
   ]
  },
  {
   "cell_type": "code",
   "execution_count": 17,
   "metadata": {},
   "outputs": [],
   "source": [
    "fullTrn = np.column_stack((Xtrn_orig, Ytrn))\n"
   ]
  },
  {
   "cell_type": "code",
   "execution_count": 18,
   "metadata": {},
   "outputs": [],
   "source": [
    "fullDf = pd.DataFrame.from_records(fullTrn)\n"
   ]
  },
  {
   "cell_type": "code",
   "execution_count": 19,
   "metadata": {},
   "outputs": [],
   "source": [
    "classZero = fullDf[fullDf[fullDf.columns[-1]]==0]\n",
    "c0Mean = classZero.mean(axis=0)"
   ]
  },
  {
   "cell_type": "code",
   "execution_count": 20,
   "metadata": {},
   "outputs": [],
   "source": [
    "classOne = fullDf[fullDf[fullDf.columns[-1]]==1]\n",
    "c1Mean = classOne.mean(axis=0)"
   ]
  },
  {
   "cell_type": "code",
   "execution_count": 21,
   "metadata": {},
   "outputs": [],
   "source": [
    "classTwo = fullDf[fullDf[fullDf.columns[-1]]==2]\n",
    "c2Mean = classTwo.mean(axis=0)"
   ]
  },
  {
   "cell_type": "code",
   "execution_count": 22,
   "metadata": {},
   "outputs": [
    {
     "data": {
      "text/plain": [
       "(785,)"
      ]
     },
     "execution_count": 22,
     "metadata": {},
     "output_type": "execute_result"
    }
   ],
   "source": [
    "classThree = fullDf[fullDf[fullDf.columns[-1]]==3]\n",
    "c3Mean = classThree.mean(axis=0)\n",
    "c3Mean.shape\n"
   ]
  },
  {
   "cell_type": "code",
   "execution_count": 23,
   "metadata": {},
   "outputs": [],
   "source": [
    "# Compute the mean of each class\n",
    "def computeClassMean(data):\n",
    "    classNumber = 10\n",
    "    classMeanArray = []\n",
    "    for i in range(0,classNumber):\n",
    "        # Classify the data, group by the last column (Y) value of each samples\n",
    "        classSample = data[data[data.columns[-1]] == i]\n",
    "        classMean = classSample.mean(axis=0)\n",
    "        classMeanArray.append(classMean)\n",
    "    return classMeanArray\n",
    "\n",
    "# Find the four required samples\n",
    "def findSamples(data, mean):\n",
    "    \"\"\"find the two closest samples and two furthest samples of the `data` class to the mean vector of that class.\"\"\"\n",
    "\n",
    "    # Compute the distance between the first sample of each class and c0Mean\n",
    "    firstSample = data.iloc[0]\n",
    "    firstDist = np.linalg.norm(mean-firstSample)\n",
    "\n",
    "    # Initialise the closest sample using the first sample\n",
    "    closestSample = firstSample\n",
    "    closestDist = firstDist\n",
    "\n",
    "    # Initialise the second closest sample using the first sample\n",
    "    secondClosestSample = firstSample\n",
    "    secondClosestDist = firstDist\n",
    "\n",
    "    # Initialise the furthest sample using the first sample\n",
    "    furthestSample = firstSample\n",
    "    furthestDist = firstDist\n",
    "\n",
    "    # Initialise the second furthest sample using the first sample\n",
    "    secondFurthestSample = firstSample\n",
    "    secondFurthestDist = firstDist\n",
    "\n",
    "    # Compute the distance between samples and c0Mean, start from index 1 (the first sample excluded)\n",
    "    for i in range(1, len(data)):\n",
    "\n",
    "        comparedSample = data.iloc[i]\n",
    "        distance = np.linalg.norm(mean-comparedSample)\n",
    "\n",
    "        if distance < closestDist:\n",
    "            secondClosestSample = closestSample\n",
    "            secondClosestDist = closestDist\n",
    "            closestSample = comparedSample\n",
    "            closestDist = distance\n",
    "\n",
    "        elif closestDist <= distance <= secondClosestDist:\n",
    "            secondClosestSample = comparedSample\n",
    "            secondClosestDist = distance\n",
    "\n",
    "        elif distance > furthestDist:\n",
    "            secondFurthestSample = furthestSample\n",
    "            secondFurthestDist = furthestDist\n",
    "            furthestSample = comparedSample\n",
    "            furthestDist = distance\n",
    "\n",
    "        elif secondFurthestDist <= distance <= furthestDist:\n",
    "            secondFurthestSample = comparedSample\n",
    "            secondFurthestDist = distance\n",
    "\n",
    "    return closestSample, secondClosestSample, secondFurthestSample, furthestSample\n",
    "\n",
    "# Find all samples for each class\n",
    "def findAllSamples():\n",
    "    fullTrn = np.column_stack((Xtrn_orig, Ytrn))\n",
    "    fullDf = pd.DataFrame.from_records(fullTrn)\n",
    "    classMeanArray = computeClassMean(fullDf)\n",
    "    selectedSamples = []\n",
    "\n",
    "    for i in range (0,10):\n",
    "        classSamples = fullDf[fullDf[fullDf.columns[-1]] == i]\n",
    "        classMean = classMeanArray[i]\n",
    "        result = findSamples(classSamples, classMean)\n",
    "        for row in result:\n",
    "            del row[784]\n",
    "        selectedSamples.append(result)\n",
    "\n",
    "    return selectedSamples\n"
   ]
  },
  {
   "cell_type": "code",
   "execution_count": 24,
   "metadata": {
    "pycharm": {
     "name": "#%%\n"
    }
   },
   "outputs": [],
   "source": [
    "# Get all closest, second closest, second furthest, and furthest samples\n",
    "data = findAllSamples()\n",
    "\n",
    "# Get all class mean vector\n",
    "classMeanArray = computeClassMean(fullDf)\n",
    "for row in classMeanArray:\n",
    "    del row[784]\n"
   ]
  },
  {
   "cell_type": "code",
   "execution_count": 25,
   "metadata": {
    "pycharm": {
     "name": "#%%\n"
    }
   },
   "outputs": [
    {
     "data": {
      "image/png": "[encoded data removed]",
      "text/plain": [
       "<Figure size 432x288 with 5 Axes>"
      ]
     },
     "metadata": {
      "needs_background": "light"
     },
     "output_type": "display_data"
    },
    {
     "data": {
      "image/png": "[encoded data removed]",
      "text/plain": [
       "<Figure size 432x288 with 5 Axes>"
      ]
     },
     "metadata": {
      "needs_background": "light"
     },
     "output_type": "display_data"
    },
    {
     "data": {
      "image/png": "[encoded data removed]",
      "text/plain": [
       "<Figure size 432x288 with 5 Axes>"
      ]
     },
     "metadata": {
      "needs_background": "light"
     },
     "output_type": "display_data"
    },
    {
     "data": {
      "image/png": "[encoded data removed]",
      "text/plain": [
       "<Figure size 432x288 with 5 Axes>"
      ]
     },
     "metadata": {
      "needs_background": "light"
     },
     "output_type": "display_data"
    },
    {
     "data": {
      "image/png": "[encoded data removed]",
      "text/plain": [
       "<Figure size 432x288 with 5 Axes>"
      ]
     },
     "metadata": {
      "needs_background": "light"
     },
     "output_type": "display_data"
    },
    {
     "data": {
      "image/png": "[encoded data removed]",
      "text/plain": [
       "<Figure size 432x288 with 5 Axes>"
      ]
     },
     "metadata": {
      "needs_background": "light"
     },
     "output_type": "display_data"
    },
    {
     "data": {
      "image/png": "[encoded data removed]",
      "text/plain": [
       "<Figure size 432x288 with 5 Axes>"
      ]
     },
     "metadata": {
      "needs_background": "light"
     },
     "output_type": "display_data"
    },
    {
     "data": {
      "image/png": "[encoded data removed]",
      "text/plain": [
       "<Figure size 432x288 with 5 Axes>"
      ]
     },
     "metadata": {
      "needs_background": "light"
     },
     "output_type": "display_data"
    },
    {
     "data": {
      "image/png": "[encoded data removed]",
      "text/plain": [
       "<Figure size 432x288 with 5 Axes>"
      ]
     },
     "metadata": {
      "needs_background": "light"
     },
     "output_type": "display_data"
    },
    {
     "data": {
      "image/png": "[encoded data removed]",
      "text/plain": [
       "<Figure size 432x288 with 5 Axes>"
      ]
     },
     "metadata": {
      "needs_background": "light"
     },
     "output_type": "display_data"
    }
   ],
   "source": [
    "# Combine all samples and display images\n",
    "for rowIndex in range(len(data)):\n",
    "    fig, ax = plt.subplots(1,5)\n",
    "    rowData = data[rowIndex]\n",
    "    rowData = (classMeanArray[rowIndex],)+rowData\n",
    "    plt.suptitle('Class {}'.format(rowIndex), fontsize=14)\n",
    "    for index, sample in enumerate(rowData):\n",
    "        sampleName = sample.name\n",
    "        imageData = sample.values.reshape((28,28))\n",
    "        ax[index].imshow(imageData, cmap='gray_r')\n",
    "        if sampleName == None:\n",
    "            sampleName = 'Mean'\n",
    "        ax[index].set_title('Sample {}'.format(sampleName),fontsize=8)\n",
    "\n",
    "    plt.tight_layout()\n",
    "    plt.subplots_adjust(top=1.4)\n",
    "\n",
    "plt.show()\n",
    "\n"
   ]
  },
  {
   "cell_type": "markdown",
   "metadata": {},
   "source": [
    "### 1.3\n"
   ]
  },
  {
   "cell_type": "code",
   "execution_count": 26,
   "metadata": {
    "pycharm": {
     "name": "#%%\n"
    }
   },
   "outputs": [
    {
     "name": "stdout",
     "output_type": "stream",
     "text": [
      "[19.80980567 12.11221047  4.10615661  3.38182839  2.62477022]\n",
      "Run\n"
     ]
    }
   ],
   "source": [
    "pca = PCA(n_components=5)\n",
    "pca.fit(Xtrn_nm)\n",
    "print(pca.explained_variance_)\n",
    "print(\"Run\")"
   ]
  },
  {
   "cell_type": "markdown",
   "metadata": {
    "pycharm": {
     "name": "#%% md\n"
    }
   },
   "source": [
    "### 1.4\n"
   ]
  },
  {
   "cell_type": "code",
   "execution_count": 27,
   "metadata": {
    "pycharm": {
     "name": "#%%\n"
    }
   },
   "outputs": [
    {
     "data": {
      "image/png": "[encoded data removed]",
      "text/plain": [
       "<Figure size 432x288 with 1 Axes>"
      ]
     },
     "metadata": {
      "needs_background": "light"
     },
     "output_type": "display_data"
    }
   ],
   "source": [
    "pca = PCA().fit(Xtrn_nm)\n",
    "plt.plot(np.cumsum(pca.explained_variance_ratio_))\n",
    "plt.xlabel('number of components')\n",
    "plt.ylabel('cumulative explained variance');"
   ]
  },
  {
   "cell_type": "markdown",
   "metadata": {
    "pycharm": {
     "name": "#%% md\n"
    }
   },
   "source": [
    "### 1.5\n"
   ]
  },
  {
   "cell_type": "code",
   "execution_count": 28,
   "metadata": {
    "pycharm": {
     "name": "#%%\n"
    }
   },
   "outputs": [
    {
     "data": {
      "image/png": "[encoded data removed]",
      "text/plain": [
       "<Figure size 432x288 with 10 Axes>"
      ]
     },
     "metadata": {
      "needs_background": "light"
     },
     "output_type": "display_data"
    }
   ],
   "source": [
    "pca = PCA(n_components=10)\n",
    "pca.fit(Xtrn_nm)\n",
    "\n",
    "NUM_OF_ROWS = 2\n",
    "NUM_OF_COLS = 5\n",
    "\n",
    "fig, ax = plt.subplots(NUM_OF_ROWS,NUM_OF_COLS)\n",
    "for i in range(NUM_OF_ROWS):\n",
    "    for j in range(NUM_OF_COLS):\n",
    "        img = pca.components_[i * NUM_OF_COLS + j].reshape((28,28))\n",
    "        ax[i, j].imshow(img,cmap='gray_r')\n",
    "        ax[i, j].set_title('Component {}'.format(i * NUM_OF_COLS + j + 1),fontsize=8)\n",
    "    plt.tight_layout()\n",
    "    plt.subplots_adjust(top=1.4)\n",
    "\n"
   ]
  },
  {
   "cell_type": "markdown",
   "metadata": {
    "pycharm": {
     "name": "#%% md\n"
    }
   },
   "source": [
    "### 1.6\n"
   ]
  },
  {
   "cell_type": "code",
   "execution_count": 29,
   "metadata": {
    "pycharm": {
     "name": "#%%\n"
    }
   },
   "outputs": [],
   "source": [
    "# Combine Xtrn and Ytrn\n",
    "fullTrn_nm = np.column_stack((Xtrn_nm, Ytrn))\n",
    "\n",
    "# Convert to DataFrame\n",
    "fullTrnNmDf = pd.DataFrame.from_records(fullTrn_nm)\n"
   ]
  },
  {
   "cell_type": "code",
   "execution_count": 30,
   "metadata": {
    "pycharm": {
     "name": "#%%\n"
    }
   },
   "outputs": [
    {
     "name": "stdout",
     "output_type": "stream",
     "text": [
      "txs\n"
     ]
    }
   ],
   "source": [
    "def splitByClass(data):\n",
    "    \"split data by class from 0-9, with y col removed\"\n",
    "    NUM_OF_CLASS = 10\n",
    "    allClass = []\n",
    "    for i in range(NUM_OF_CLASS):\n",
    "        currentClass = data[data[data.columns[-1]] == i]\n",
    "        cleaned = currentClass.iloc[:,:-1]\n",
    "        allClass.append(cleaned)\n",
    "    return allClass\n",
    "\n",
    "print(\"txs\")"
   ]
  },
  {
   "cell_type": "code",
   "execution_count": 31,
   "metadata": {
    "pycharm": {
     "name": "#%%\n"
    }
   },
   "outputs": [
    {
     "name": "stdout",
     "output_type": "stream",
     "text": [
      "test\n"
     ]
    }
   ],
   "source": [
    "# 思路：用整个dataset去fit，然后transform到每个class,接着提取transform后的每个class的第一个sample，用来计算RMSE\n",
    "\n",
    "def reconstructSample(pca, pcaProcessedData):\n",
    "    reconstructedData = pca.inverse_transform(pcaProcessedData)\n",
    "    reconstructedSample = reconstructedData[0,:]\n",
    "    return reconstructedSample\n",
    "\n",
    "def rootMeanSquareError(numOfComponents, classData):\n",
    "    pca = PCA(n_components=numOfComponents)\n",
    "    pca.fit(Xtrn_nm)\n",
    "    pcaProcessedData = pca.transform(classData)\n",
    "    reconstructed = reconstructSample(pca, pcaProcessedData)\n",
    "    return sqrt(mean_squared_error(classData.iloc[0], reconstructed))\n",
    "\n",
    "print(\"test\")"
   ]
  },
  {
   "cell_type": "code",
   "execution_count": null,
   "metadata": {
    "pycharm": {
     "name": "#%%\n"
    }
   },
   "outputs": [
    {
     "name": "stdout",
     "output_type": "stream",
     "text": [
      "Class 0 with K=5 components: 0.256148664683046\n",
      "Class 0 with K=20 components: 0.15010080435955356\n",
      "Class 0 with K=50 components: 0.1276836348808355\n",
      "Class 0 with K=200 components: 0.059746700639977925\n",
      "Class 1 with K=5 components: 0.1980243963475845\n",
      "Class 1 with K=20 components: 0.14040908254619122\n"
     ]
    }
   ],
   "source": [
    "K_Array = [5,20,50,200]\n",
    "\n",
    "for i in range(10):\n",
    "    currentClass = splitByClass(fullTrnNmDf)[i]\n",
    "    for k in K_Array:\n",
    "        result = rootMeanSquareError(k,currentClass)\n",
    "        print(f\"Class {i} with K={k} components: {result}\")\n",
    "\n"
   ]
  },
  {
   "cell_type": "markdown",
   "metadata": {
    "pycharm": {
     "name": "#%% md\n"
    }
   },
   "source": [
    "### 1.7"
   ]
  },
  {
   "cell_type": "code",
   "execution_count": null,
   "metadata": {
    "pycharm": {
     "name": "#%%\n"
    }
   },
   "outputs": [],
   "source": [
    "def printReconstructedSamples():\n",
    "    K_Array = [5,20,50,200]\n",
    "    classArray = splitByClass(fullTrnNmDf)\n",
    "    NUM_OF_ROWS = 10\n",
    "    NUM_OF_COLS = 4\n",
    "\n",
    "    for i in range(NUM_OF_ROWS):\n",
    "        fig, ax = plt.subplots(1, NUM_OF_COLS)\n",
    "        currentClass = classArray[i]\n",
    "        plt.suptitle(f'Class {i}', fontsize=14)\n",
    "        for j in range(NUM_OF_COLS):\n",
    "            pca = PCA(n_components=K_Array[j])\n",
    "            pca.fit(Xtrn_nm)\n",
    "            pcaProcessedData = pca.transform(currentClass)\n",
    "            reconstructedSample = reconstructSample(pca, pcaProcessedData)\n",
    "            newImg = (reconstructedSample + Xmean).reshape((28,28))\n",
    "            ax[j].imshow(newImg,cmap='gray_r')\n",
    "            ax[j].set_title(f\"K = {K_Array[j]}\",fontsize=8)\n",
    "        plt.tight_layout()\n",
    "        plt.subplots_adjust(top=1.4)\n",
    "\n",
    "print(\"X\")\n",
    "\n",
    "printReconstructedSamples()"
   ]
  },
  {
   "cell_type": "markdown",
   "metadata": {
    "pycharm": {
     "name": "#%% md\n"
    }
   },
   "source": [
    "### 1.8\n"
   ]
  },
  {
   "cell_type": "code",
   "execution_count": null,
   "metadata": {
    "pycharm": {
     "name": "#%%\n"
    }
   },
   "outputs": [],
   "source": [
    "pca = PCA(n_components=2)\n",
    "X_r = pca.fit(Xtrn_nm).transform(Xtrn_nm)\n",
    "# colors = ['navy', 'turquoise', 'darkorange','blue','black','yellow','green','red','gray','orange']\n",
    "plt.figure()\n",
    "for i in [0,1,2,3,4,5,6,7,8,9]:\n",
    "    plt.scatter(X_r[Ytrn==i,0],X_r[Ytrn==i,1], alpha=.5,cmap = plt.cm.coolwarm)\n",
    "plt.colorbar(ticks=range(10), label='Class')\n",
    "plt.clim(0, 9)\n",
    "plt.show()\n",
    "print(\"dddf\")"
   ]
  },
  {
   "cell_type": "markdown",
   "metadata": {
    "pycharm": {
     "name": "#%% md\n"
    }
   },
   "source": [
    "### 1.9"
   ]
  },
  {
   "cell_type": "code",
   "execution_count": null,
   "metadata": {
    "pycharm": {
     "name": "#%%\n"
    }
   },
   "outputs": [],
   "source": []
  },
  {
   "cell_type": "code",
   "execution_count": null,
   "metadata": {
    "pycharm": {
     "name": "#%%\n"
    }
   },
   "outputs": [],
   "source": []
  },
  {
   "cell_type": "code",
   "execution_count": null,
   "metadata": {
    "pycharm": {
     "name": "#%%\n"
    }
   },
   "outputs": [],
   "source": []
  },
  {
   "cell_type": "code",
   "execution_count": null,
   "metadata": {
    "pycharm": {
     "name": "#%%\n"
    }
   },
   "outputs": [],
   "source": []
  },
  {
   "cell_type": "code",
   "execution_count": null,
   "metadata": {
    "pycharm": {
     "name": "#%%\n"
    }
   },
   "outputs": [],
   "source": []
  },
  {
   "cell_type": "code",
   "execution_count": null,
   "metadata": {
    "pycharm": {
     "name": "#%%\n"
    }
   },
   "outputs": [],
   "source": []
  },
  {
   "cell_type": "code",
   "execution_count": null,
   "metadata": {
    "pycharm": {
     "name": "#%%\n"
    }
   },
   "outputs": [],
   "source": [
    "\n"
   ]
  },
  {
   "cell_type": "code",
   "execution_count": null,
   "metadata": {
    "pycharm": {
     "name": "#%%\n"
    }
   },
   "outputs": [],
   "source": [
    "\n"
   ]
  },
  {
   "cell_type": "code",
   "execution_count": null,
   "metadata": {
    "pycharm": {
     "name": "#%%\n"
    }
   },
   "outputs": [],
   "source": []
  }
 ],
 "metadata": {
  "kernelspec": {
   "display_name": "Python 3",
   "language": "python",
   "name": "python3"
  },
  "language_info": {
   "codemirror_mode": {
    "name": "ipython",
    "version": 3
   },
   "file_extension": ".py",
   "mimetype": "text/x-python",
   "name": "python",
   "nbconvert_exporter": "python",
   "pygments_lexer": "ipython3",
   "version": "3.7.7"
  }
 },
 "nbformat": 4,
 "nbformat_minor": 1
}
