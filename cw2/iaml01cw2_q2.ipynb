{
 "cells": [
  {
   "cell_type": "code",
   "execution_count": 2,
   "metadata": {},
   "outputs": [],
   "source": [
    "##########################################################\n",
    "#  Python script template for Question 2 (IAML Level 11)\n",
    "#  Note that\n",
    "#  - You should not change the filename of this file, 'iaml01cw2_q2.py', which is the file name you should use when you submit your code for this question.\n",
    "#  - You should write code for the functions defined below. Do not change their names.\n",
    "#  - You can define function arguments (parameters) and returns (attributes) if necessary.\n",
    "#  - In case you define helper functions, do not define them here, but put them in a separate Python module file, \"iaml01cw2_my_helpers.py\", and import it in this script.\n",
    "#  - For those questions requiring you to show results in tables, your code does not need to present them in tables - just showing them with print() is fine.\n",
    "#  - You do not need to include this header in your submission.\n",
    "##########################################################"
   ]
  },
  {
   "cell_type": "code",
   "execution_count": 2,
   "metadata": {},
   "outputs": [],
   "source": [
    "import numpy as np\n",
    "import scipy\n",
    "import matplotlib.pyplot as plt\n",
    "import seaborn as sns\n",
    "from iaml01cw2_helpers import *\n",
    "from iaml01cw2_my_helpers import *\n",
    "from sklearn.linear_model import LogisticRegression"
   ]
  },
  {
   "cell_type": "markdown",
   "metadata": {},
   "source": [
    "# Data Normalization"
   ]
  },
  {
   "cell_type": "markdown",
   "metadata": {},
   "source": [
    "<b>Step1</b>: Make a back up of Xtrn and Xtst by copying Xtrn to Xtrn_orig and Xtst to Xtst_orig.\n"
   ]
  },
  {
   "cell_type": "code",
   "execution_count": 4,
   "metadata": {},
   "outputs": [
    {
     "name": "stdout",
     "output_type": "stream",
     "text": [
      "[-3.13725490e-06 -2.26797386e-05 -1.17973856e-04 -4.07058824e-04]\n",
      "[-3.13725490e-06 -2.26797386e-05 -1.17973856e-04 -4.07058824e-04]\n"
     ]
    }
   ],
   "source": [
    "# step1: load data\n",
    "Xtrn, Ytrn, Xtst, Ytst = load_FashionMNIST('../q1_data')\n",
    "Xtrn_orig, Ytrn, Xtst_orig, Ytst = load_FashionMNIST('../q1_data')\n",
    "\n",
    "# step2: Divide by 255\n",
    "xtrn=np.divide(Xtrn,255)\n",
    "xtst=np.divide(Xtst,255)\n",
    "\n",
    "# Step3: Step 3 Calculate the mean value of Xtrn for each dimension \n",
    "Xmean=np.mean(xtrn, axis=0)\n",
    "Xmean.shape\n",
    "\n",
    "# Step 4 Subtract Xmean from each row of Xtrn and Xtst\n",
    "Xtrn_nm = xtrn-Xmean\n",
    "Xtst_nm = xtst-Xmean\n",
    "\n",
    "# report data\n",
    "print(Xtrn_nm[0,:4])\n",
    "print(Xtrn_nm[-1,:4])"
   ]
  },
  {
   "cell_type": "markdown",
   "metadata": {},
   "source": [
    "<br>\n",
    "<b>2.1 (3 points)</b>\n",
    "Carry out a classification experiment with multinomial logistic regression, and report the classification accuracy and confusion matrix (in numbers rather than in graphical representation such as heatmap) for the test set.\n",
    "You should use sklearn.linear_model_LogisticRegression() with the default parameters. Make sure that you use Xtrn_nm for training and Xtst_nm for testing."
   ]
  },
  {
   "cell_type": "code",
   "execution_count": 8,
   "metadata": {},
   "outputs": [
    {
     "name": "stdout",
     "output_type": "stream",
     "text": [
      "0.8401\n",
      "[[819   3  15  50   7   4  89   1  12   0]\n",
      " [  5 953   4  27   5   0   3   1   2   0]\n",
      " [ 27   4 731  11 133   0  82   2   9   1]\n",
      " [ 31  15  14 866  33   0  37   0   4   0]\n",
      " [  0   3 115  38 760   2  72   0  10   0]\n",
      " [  2   0   0   1   0 911   0  56  10  20]\n",
      " [147   3 128  46 108   0 539   0  28   1]\n",
      " [  0   0   0   0   0  32   0 936   1  31]\n",
      " [  7   1   6  11   3   7  15   5 945   0]\n",
      " [  0   0   0   1   0  15   1  42   0 941]]\n"
     ]
    }
   ],
   "source": [
    "from sklearn.linear_model import LogisticRegression\n",
    "lr=LogisticRegression()\n",
    "lr.fit(Xtrn_nm,Ytrn)\n",
    "\n",
    "# get score\n",
    "print(lr.score(Xtst_nm,Ytst))\n",
    "\n",
    "# get confusion matrix\n",
    "y_preds = lr.predict(Xtst_nm)\n",
    "from sklearn.metrics import confusion_matrix\n",
    "print(confusion_matrix(Ytst,y_preds))\n"
   ]
  },
  {
   "cell_type": "code",
   "execution_count": 13,
   "metadata": {
    "scrolled": true
   },
   "outputs": [
    {
     "data": {
      "text/plain": [
       "0.8401"
      ]
     },
     "execution_count": 13,
     "metadata": {},
     "output_type": "execute_result"
    }
   ],
   "source": [
    "lr.score(Xtst_nm,Ytst)"
   ]
  },
  {
   "cell_type": "code",
   "execution_count": 14,
   "metadata": {},
   "outputs": [],
   "source": [
    "y_preds = lr.predict(Xtst_nm)"
   ]
  },
  {
   "cell_type": "code",
   "execution_count": 15,
   "metadata": {},
   "outputs": [
    {
     "data": {
      "text/plain": [
       "array([[819,   3,  15,  50,   7,   4,  89,   1,  12,   0],\n",
       "       [  5, 953,   4,  27,   5,   0,   3,   1,   2,   0],\n",
       "       [ 27,   4, 731,  11, 133,   0,  82,   2,   9,   1],\n",
       "       [ 31,  15,  14, 866,  33,   0,  37,   0,   4,   0],\n",
       "       [  0,   3, 115,  38, 760,   2,  72,   0,  10,   0],\n",
       "       [  2,   0,   0,   1,   0, 911,   0,  56,  10,  20],\n",
       "       [147,   3, 128,  46, 108,   0, 539,   0,  28,   1],\n",
       "       [  0,   0,   0,   0,   0,  32,   0, 936,   1,  31],\n",
       "       [  7,   1,   6,  11,   3,   7,  15,   5, 945,   0],\n",
       "       [  0,   0,   0,   1,   0,  15,   1,  42,   0, 941]])"
      ]
     },
     "execution_count": 15,
     "metadata": {},
     "output_type": "execute_result"
    }
   ],
   "source": [
    "from sklearn.metrics import confusion_matrix\n",
    "confusion_matrix(Ytst,y_preds)"
   ]
  },
  {
   "cell_type": "markdown",
   "metadata": {},
   "source": [
    "<br>\n",
    "<b>2.2 (3 points)</b><br>\n",
    "Carry out a classification experiment with SVM classifiers, and report the mean accuracy and confusion matrix (in numbers) for the test set.\n",
    "You should use sklearn.svm.SVC() with the default parameters (kernel=’rbf’, C = 1.0, gamma=’auto’)."
   ]
  },
  {
   "cell_type": "code",
   "execution_count": 6,
   "metadata": {},
   "outputs": [],
   "source": [
    "from sklearn.svm import SVC"
   ]
  },
  {
   "cell_type": "code",
   "execution_count": 7,
   "metadata": {},
   "outputs": [
    {
     "data": {
      "text/plain": [
       "SVC(C=1.0, cache_size=200, class_weight=None, coef0=0.0,\n",
       "  decision_function_shape='ovr', degree=3, gamma='auto', kernel='rbf',\n",
       "  max_iter=-1, probability=False, random_state=None, shrinking=True,\n",
       "  tol=0.001, verbose=False)"
      ]
     },
     "execution_count": 7,
     "metadata": {},
     "output_type": "execute_result"
    }
   ],
   "source": [
    "svc_rbf = SVC()\n",
    "svc_rbf.fit(Xtrn_nm, Ytrn) "
   ]
  },
  {
   "cell_type": "code",
   "execution_count": 8,
   "metadata": {
    "scrolled": true
   },
   "outputs": [
    {
     "data": {
      "text/plain": [
       "0.8461"
      ]
     },
     "execution_count": 8,
     "metadata": {},
     "output_type": "execute_result"
    }
   ],
   "source": [
    "svc_rbf.score(Xtst_nm,Ytst)"
   ]
  },
  {
   "cell_type": "code",
   "execution_count": 35,
   "metadata": {},
   "outputs": [
    {
     "data": {
      "text/plain": [
       "array([[845,   2,   8,  51,   4,   4,  72,   0,  14,   0],\n",
       "       [  4, 951,   7,  31,   5,   0,   1,   0,   1,   0],\n",
       "       [ 15,   2, 748,  11, 137,   0,  79,   0,   8,   0],\n",
       "       [ 32,   6,  12, 881,  26,   0,  40,   0,   3,   0],\n",
       "       [  1,   0,  98,  36, 775,   0,  86,   0,   4,   0],\n",
       "       [  0,   0,   0,   1,   0, 914,   0,  57,   2,  26],\n",
       "       [185,   1, 122,  39,  95,   0, 533,   0,  25,   0],\n",
       "       [  0,   0,   0,   0,   0,  34,   0, 925,   0,  41],\n",
       "       [  3,   1,   8,   5,   2,   4,  13,   4, 959,   1],\n",
       "       [  0,   0,   0,   0,   0,  22,   0,  47,   1, 930]])"
      ]
     },
     "execution_count": 35,
     "metadata": {},
     "output_type": "execute_result"
    }
   ],
   "source": [
    "ysvc_preds = svc_rbf.predict(Xtst_nm)\n",
    "confusion_matrix(Ytst,ysvc_preds)"
   ]
  },
  {
   "cell_type": "markdown",
   "metadata": {},
   "source": [
    "<br>\n",
    "<b>2.3 (6 points)</b><br>\n",
    "We now want to visualise the decision regions for the logistic regression classifier we trained in Question 2.1.\n",
    "Since it is not possible to visualise the original vector of 784 dimensions, we consider a two- dimensional plane, i.e. cross section, in the original space and visualise decisions regions for the points on that plane, ignoring points outside the plane. We here employ the plane spanned by the first two principal components, where we assume that the plane shares the same origin as the one of the original vector space. Using matplotlib.pyplot.counterf() and ’coolwarm’ colormap, plot the decisions regions for the rectangular area of 100-by-100 grid points whose left-upper corner is (−5σ1, 5σ2) and right-bottom corner is (5σ1, −5σ2), where σ1 and σ2 denote the standard deviations for the first principal component and second principal component, respectively. You should also use matplotlib.colorbar() to display a colorbar.\n",
    "Report your findings briefly."
   ]
  },
  {
   "cell_type": "code",
   "execution_count": 7,
   "metadata": {},
   "outputs": [
    {
     "data": {
      "image/png": "[encoded data removed]",
      "text/plain": [
       "<Figure size 720x504 with 2 Axes>"
      ]
     },
     "metadata": {
      "needs_background": "light"
     },
     "output_type": "display_data"
    }
   ],
   "source": [
    "from sklearn.decomposition import PCA\n",
    "\n",
    "def iaml01cw2_q2_3():\n",
    "    \n",
    "    #train  logistic regression model\n",
    "    lr=LogisticRegression().fit(Xtrn_nm,Ytrn)\n",
    "    \n",
    "    # train pca\n",
    "    pca_fit = PCA(n_components=2).fit_transform(Xtrn_nm)\n",
    "    \n",
    "    #     get parameters\n",
    "    sigma1 = np.std(pca_fit[:,0],ddof=1)\n",
    "    sigma2 = np.std(pca_fit[:,1],ddof=1)\n",
    "    \n",
    "    x_min,x_max = -5 * sigma1, 5*sigma1\n",
    "    y_min,y_max = -5 * sigma2, 5*sigma2\n",
    "    \n",
    "    xx,yy = np.meshgrid(np.arange(x_min,x_max,(x_max-x_min)/100),\n",
    "                        np.arange(y_min,y_max,(y_max-y_min)/100))\n",
    "    \n",
    "    Z=np.c_[xx.ravel(),yy.ravel()]\n",
    "    V=np.c_[pca_fit.components_[0].ravel(),pca_fit.components_[1].ravel()].T\n",
    "#     colorbar.set_ticks(np.linspace(-1,9,9))\n",
    "    X = np.dot(Z,V)\n",
    "    y_pred = lr.predict(X)\n",
    "    y_pred = y_pred.reshape(xx.shape)\n",
    "                        \n",
    "    #     plot\n",
    "                        \n",
    "    fig=plt.figure(figsize=(10, 7))\n",
    "    plt.contourf(xx, yy, y_pred, cmap = plt.cm.coolwarm)\n",
    "    plt.colorbar()\n",
    "    plt.title('The decision regions of Logistic Regression')\n",
    "    plt.xlabel('The 1st principle component')\n",
    "    plt.ylabel('the 2nd principle component')\n",
    "    fig.savefig('./results/q2_3.img.png')\n",
    "\n",
    "iaml01cw2_q2_3()"
   ]
  },
  {
   "cell_type": "markdown",
   "metadata": {},
   "source": [
    "report your findings<br>"
   ]
  },
  {
   "cell_type": "markdown",
   "metadata": {},
   "source": [
    "<br>\n",
    "<b>2.4 (4 points)</b></br>\n",
    "Using the same method as the one above, plot the decision regions for the SVM classifier you trained in Question 2.2. Comparing the result with that you obtained in Question 2.3, discuss your findings briefly."
   ]
  },
  {
   "cell_type": "code",
   "execution_count": 39,
   "metadata": {},
   "outputs": [
    {
     "data": {
      "image/png": "[encoded data removed]",
      "text/plain": [
       "<Figure size 720x504 with 2 Axes>"
      ]
     },
     "metadata": {
      "needs_background": "light"
     },
     "output_type": "display_data"
    }
   ],
   "source": [
    "def iaml01cw2_q2_4():\n",
    "        #train  logistic regression model\n",
    "    svc_rbf = SVC()\n",
    "    svc_rbf.fit(Xtrn_nm, Ytrn) \n",
    "    \n",
    "    # train pca\n",
    "    pca = PCA(n_components=2)\n",
    "    pca_fit = pca.fit_transform(Xtrn_nm)\n",
    "    \n",
    "    #     get parameters\n",
    "    sigma1 = np.std(pca_fit[:,0],ddof=1)\n",
    "    sigma2 = np.std(pca_fit[:,1],ddof=1)\n",
    "    \n",
    "    x_min,x_max = -5 * sigma1, 5*sigma1\n",
    "    y_min,y_max = -5 * sigma2, 5*sigma2\n",
    "    \n",
    "    xx,yy = np.meshgrid(np.arange(x_min,x_max,(x_max-x_min)/100),\n",
    "                        np.arange(y_min,y_max,(y_max-y_min)/100))\n",
    "    \n",
    "    Z=np.c_[xx.ravel(),yy.ravel()]\n",
    "    V=np.c_[pca.components_[0].ravel(),pca.components_[1].ravel()].T\n",
    "    X = np.dot(Z,V)\n",
    "    y_pred = svc_rbf.predict(X)\n",
    "    y_pred = y_pred.reshape(xx.shape)\n",
    "                        \n",
    "    #     plot\n",
    "                        \n",
    "    fig=plt.figure(figsize=(10, 7))\n",
    "    plt.contourf(xx, yy, y_pred, cmap = plt.cm.coolwarm)\n",
    "    plt.colorbar().set_ticks(np.linspace(-1,9,11))\n",
    "    plt.title('The decision regions of SVM')\n",
    "    plt.xlabel('The 1st principle component')\n",
    "    plt.ylabel('the 2nd principle component')\n",
    "    \n",
    "    fig.savefig('./results/q2_4.img.png')\n",
    "\n",
    "iaml01cw2_q2_4()"
   ]
  },
  {
   "cell_type": "markdown",
   "metadata": {},
   "source": [
    "<br>report your findings"
   ]
  },
  {
   "cell_type": "markdown",
   "metadata": {},
   "source": [
    "<br>\n",
    "<b>2.5 (6 points)</b> <br>\n",
    "We used default parameters for the SVM in Question 2.2. We now want to tune the parameters by using cross-validation. To reduce the time for experiments, you pick up the first 1000 training samples from each class to create Xsmall, so that Xsmall contains 10,000 samples in total. Accordingly, you create labels, Ysmall.\n",
    "By using a 3-fold cross validation and Xsmall only, estimate the classification accuracy of an SVM classifier with RBF kernel, while you vary the penalty parameter C in the range 10−2 to 103 (use 10 values spaced equally log space). Set the kernel coefficient parameter gamma to auto for this question.\n",
    "Plot the mean cross-validated classification accuracy against the regularisation parameter C by using a log-scale for the x-axis. Report the highest obtained mean accuracy score and the value of C which yielded it."
   ]
  },
  {
   "cell_type": "code",
   "execution_count": 8,
   "metadata": {},
   "outputs": [],
   "source": [
    "# create Xsmall and Ysmall\n",
    "import pandas as pd\n",
    "import math\n",
    "from sklearn.svm import SVC\n",
    "from sklearn.model_selection import KFold\n",
    "from sklearn.model_selection import cross_val_score\n",
    "\n",
    "trn_final = np.column_stack((Xtrn_nm,Ytrn))\n",
    "df_trn = pd.DataFrame(trn_final)\n",
    "\n",
    "xsmall=[]\n",
    "ysmall=[]\n",
    "for i in range(0,10):\n",
    "    xsmall.append(df_trn[df_trn[df_trn.columns[-1]]==i][:1000].drop([784],axis=1).values)\n",
    "    ysmall.append(df_trn[df_trn[df_trn.columns[-1]]==i][784][:1000])\n",
    "\n",
    "    \n",
    "# 3-fold cross validation\n",
    "x_svc = np.array(xsmall).reshape(10000,784)\n",
    "y_svc = np.array(ysmall).reshape(10000,1)\n"
   ]
  },
  {
   "cell_type": "code",
   "execution_count": 16,
   "metadata": {},
   "outputs": [
    {
     "data": {
      "text/plain": [
       "0.6506000000000001"
      ]
     },
     "execution_count": 16,
     "metadata": {},
     "output_type": "execute_result"
    }
   ],
   "source": [
    "scores_0.mean()"
   ]
  },
  {
   "cell_type": "code",
   "execution_count": 9,
   "metadata": {},
   "outputs": [],
   "source": [
    "# SVM classifier\n",
    "C=np.logspace(-2,3,num=10)\n",
    "accuracy=[]\n",
    "for i in C:\n",
    "    accuracy.append(cross_val_score(SVC(C=i,kernel='rbf',gamma='auto'),\n",
    "                                x_svc,y_svc.ravel(),cv=3,scoring='accuracy').mean())"
   ]
  },
  {
   "cell_type": "code",
   "execution_count": 13,
   "metadata": {},
   "outputs": [
    {
     "data": {
      "text/plain": [
       "6"
      ]
     },
     "execution_count": 13,
     "metadata": {},
     "output_type": "execute_result"
    }
   ],
   "source": [
    "index_max = max(range(len(accuracy)), key=accuracy.__getitem__)\n",
    "index_max"
   ]
  },
  {
   "cell_type": "code",
   "execution_count": null,
   "metadata": {},
   "outputs": [],
   "source": [
    "maxAccuracy = cross_val_score(SVC(C=C[index_max],kernel='rbf',gamma='auto'),\n",
    "                                x_svc,y_svc.ravel(),cv=3,scoring='accuracy')"
   ]
  },
  {
   "cell_type": "code",
   "execution_count": 79,
   "metadata": {
    "scrolled": true
   },
   "outputs": [
    {
     "data": {
      "image/png": "[encoded data removed]",
      "text/plain": [
       "<Figure size 720x432 with 1 Axes>"
      ]
     },
     "metadata": {
      "needs_background": "light"
     },
     "output_type": "display_data"
    }
   ],
   "source": [
    "# plot drawing\n",
    "fig, ax = plt.subplots(figsize=(10,6))\n",
    "ax.plot(C,accuracy,label='accuray')\n",
    "ax.scatter(x=C,y=accuracy,\n",
    "           c='#8c564b',\n",
    "           alpha=1,\n",
    "           marker='^',\n",
    "           label='10 different accuracy points')\n",
    "ax.set_xscale('log')\n",
    "ax.set_xlabel('penalty parameter C',fontsize=14)\n",
    "ax.set_ylabel('mean cv classification accuracy',fontsize=14)\n",
    "ax.set_title('mean cross-validated classification accuracy against the C',\n",
    "             fontsize=20)\n",
    "ax.legend(loc='lower right',fontsize=12)\n",
    "plt.show()"
   ]
  },
  {
   "cell_type": "markdown",
   "metadata": {},
   "source": [
    "<b>2.6</b><br>\n",
    "Report the classification accuracy on the training set and test se"
   ]
  },
  {
   "cell_type": "code",
   "execution_count": 14,
   "metadata": {},
   "outputs": [],
   "source": [
    "C_test=np.logspace(-2,3,num=10)\n",
    "svc_best = SVC(C=C[index_max])\n",
    "svc_best.fit(Xtrn_nm, Ytrn) \n",
    "train_score = svc_best.score(Xtrn_nm,Ytrn)\n",
    "test_score=svc_best.score(Xtst_nm,Ytst)"
   ]
  },
  {
   "cell_type": "code",
   "execution_count": 15,
   "metadata": {},
   "outputs": [
    {
     "name": "stdout",
     "output_type": "stream",
     "text": [
      "traning score is:0.908\n",
      "testing sample score is:0.876\n"
     ]
    }
   ],
   "source": [
    "print('traning score is:{:.3f}'.format(train_score))\n",
    "print('testing sample score is:{:.3f}'.format(test_score))"
   ]
  },
  {
   "cell_type": "code",
   "execution_count": null,
   "metadata": {},
   "outputs": [],
   "source": []
  }
 ],
 "metadata": {
  "kernelspec": {
   "display_name": "Python 3",
   "language": "python",
   "name": "python3"
  },
  "language_info": {
   "codemirror_mode": {
    "name": "ipython",
    "version": 3
   },
   "file_extension": ".py",
   "mimetype": "text/x-python",
   "name": "python",
   "nbconvert_exporter": "python",
   "pygments_lexer": "ipython3",
   "version": "3.7.7"
  }
 },
 "nbformat": 4,
 "nbformat_minor": 4
}
