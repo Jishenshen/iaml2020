{
 "cells": [
  {
   "cell_type": "markdown",
   "metadata": {},
   "source": [
    "## import Packages"
   ]
  },
  {
   "cell_type": "code",
   "execution_count": 9,
   "metadata": {},
   "outputs": [
    {
     "name": "stderr",
     "output_type": "stream",
     "text": [
      "/afs/inf.ed.ac.uk/user/s19/s1962306/miniconda3/envs/py3iaml/lib/python3.7/site-packages/sklearn/utils/__init__.py:4: DeprecationWarning: Using or importing the ABCs from 'collections' instead of from 'collections.abc' is deprecated since Python 3.3,and in 3.9 it will stop working\n",
      "  from collections import Sequence\n",
      "/afs/inf.ed.ac.uk/user/s19/s1962306/miniconda3/envs/py3iaml/lib/python3.7/site-packages/sklearn/ensemble/weight_boosting.py:29: DeprecationWarning: numpy.core.umath_tests is an internal NumPy module and should not be imported. It will be removed in a future NumPy release.\n",
      "  from numpy.core.umath_tests import inner1d\n"
     ]
    }
   ],
   "source": [
    "# Import packages\n",
    "import os\n",
    "import numpy as np \n",
    "import pandas as pd\n",
    "import matplotlib.pyplot as plt\n",
    "import seaborn as sns\n",
    "import graphviz\n",
    "from sklearn.model_selection import train_test_split\n",
    "from sklearn.linear_model import LinearRegression\n",
    "from sklearn.tree import DecisionTreeClassifier, export_graphviz\n",
    "from sklearn.ensemble import RandomForestClassifier\n",
    "from sklearn.metrics import accuracy_score, confusion_matrix, r2_score\n",
    "%matplotlib inline"
   ]
  },
  {
   "cell_type": "markdown",
   "metadata": {},
   "source": [
    "## Description of the dataset"
   ]
  },
  {
   "cell_type": "markdown",
   "metadata": {},
   "source": [
    "focus on size, data ranges, and data types"
   ]
  },
  {
   "cell_type": "code",
   "execution_count": 56,
   "metadata": {},
   "outputs": [
    {
     "data": {
      "text/html": [
       "<div>\n",
       "<style scoped>\n",
       "    .dataframe tbody tr th:only-of-type {\n",
       "        vertical-align: middle;\n",
       "    }\n",
       "\n",
       "    .dataframe tbody tr th {\n",
       "        vertical-align: top;\n",
       "    }\n",
       "\n",
       "    .dataframe thead th {\n",
       "        text-align: right;\n",
       "    }\n",
       "</style>\n",
       "<table border=\"1\" class=\"dataframe\">\n",
       "  <thead>\n",
       "    <tr style=\"text-align: right;\">\n",
       "      <th></th>\n",
       "      <th>revision_time</th>\n",
       "      <th>exam_score</th>\n",
       "    </tr>\n",
       "  </thead>\n",
       "  <tbody>\n",
       "    <tr>\n",
       "      <th>0</th>\n",
       "      <td>2.723</td>\n",
       "      <td>27.682</td>\n",
       "    </tr>\n",
       "    <tr>\n",
       "      <th>1</th>\n",
       "      <td>2.844</td>\n",
       "      <td>22.998</td>\n",
       "    </tr>\n",
       "    <tr>\n",
       "      <th>2</th>\n",
       "      <td>3.303</td>\n",
       "      <td>19.765</td>\n",
       "    </tr>\n",
       "    <tr>\n",
       "      <th>3</th>\n",
       "      <td>3.588</td>\n",
       "      <td>24.481</td>\n",
       "    </tr>\n",
       "    <tr>\n",
       "      <th>4</th>\n",
       "      <td>4.050</td>\n",
       "      <td>22.974</td>\n",
       "    </tr>\n",
       "    <tr>\n",
       "      <th>5</th>\n",
       "      <td>4.080</td>\n",
       "      <td>27.086</td>\n",
       "    </tr>\n",
       "    <tr>\n",
       "      <th>6</th>\n",
       "      <td>5.674</td>\n",
       "      <td>26.136</td>\n",
       "    </tr>\n",
       "    <tr>\n",
       "      <th>7</th>\n",
       "      <td>6.060</td>\n",
       "      <td>27.038</td>\n",
       "    </tr>\n",
       "    <tr>\n",
       "      <th>8</th>\n",
       "      <td>6.347</td>\n",
       "      <td>31.283</td>\n",
       "    </tr>\n",
       "    <tr>\n",
       "      <th>9</th>\n",
       "      <td>6.819</td>\n",
       "      <td>14.731</td>\n",
       "    </tr>\n",
       "    <tr>\n",
       "      <th>10</th>\n",
       "      <td>7.098</td>\n",
       "      <td>28.946</td>\n",
       "    </tr>\n",
       "    <tr>\n",
       "      <th>11</th>\n",
       "      <td>7.515</td>\n",
       "      <td>26.901</td>\n",
       "    </tr>\n",
       "    <tr>\n",
       "      <th>12</th>\n",
       "      <td>8.356</td>\n",
       "      <td>35.299</td>\n",
       "    </tr>\n",
       "    <tr>\n",
       "      <th>13</th>\n",
       "      <td>9.214</td>\n",
       "      <td>24.228</td>\n",
       "    </tr>\n",
       "    <tr>\n",
       "      <th>14</th>\n",
       "      <td>10.364</td>\n",
       "      <td>34.651</td>\n",
       "    </tr>\n",
       "    <tr>\n",
       "      <th>15</th>\n",
       "      <td>10.510</td>\n",
       "      <td>34.667</td>\n",
       "    </tr>\n",
       "    <tr>\n",
       "      <th>16</th>\n",
       "      <td>12.102</td>\n",
       "      <td>34.848</td>\n",
       "    </tr>\n",
       "    <tr>\n",
       "      <th>17</th>\n",
       "      <td>13.187</td>\n",
       "      <td>37.266</td>\n",
       "    </tr>\n",
       "    <tr>\n",
       "      <th>18</th>\n",
       "      <td>16.692</td>\n",
       "      <td>43.491</td>\n",
       "    </tr>\n",
       "    <tr>\n",
       "      <th>19</th>\n",
       "      <td>16.977</td>\n",
       "      <td>45.201</td>\n",
       "    </tr>\n",
       "    <tr>\n",
       "      <th>20</th>\n",
       "      <td>18.330</td>\n",
       "      <td>40.924</td>\n",
       "    </tr>\n",
       "    <tr>\n",
       "      <th>21</th>\n",
       "      <td>19.599</td>\n",
       "      <td>48.321</td>\n",
       "    </tr>\n",
       "    <tr>\n",
       "      <th>22</th>\n",
       "      <td>20.321</td>\n",
       "      <td>49.574</td>\n",
       "    </tr>\n",
       "    <tr>\n",
       "      <th>23</th>\n",
       "      <td>21.280</td>\n",
       "      <td>47.239</td>\n",
       "    </tr>\n",
       "    <tr>\n",
       "      <th>24</th>\n",
       "      <td>21.578</td>\n",
       "      <td>45.582</td>\n",
       "    </tr>\n",
       "    <tr>\n",
       "      <th>25</th>\n",
       "      <td>21.798</td>\n",
       "      <td>53.182</td>\n",
       "    </tr>\n",
       "    <tr>\n",
       "      <th>26</th>\n",
       "      <td>22.048</td>\n",
       "      <td>39.956</td>\n",
       "    </tr>\n",
       "    <tr>\n",
       "      <th>27</th>\n",
       "      <td>24.949</td>\n",
       "      <td>52.697</td>\n",
       "    </tr>\n",
       "    <tr>\n",
       "      <th>28</th>\n",
       "      <td>25.147</td>\n",
       "      <td>54.900</td>\n",
       "    </tr>\n",
       "    <tr>\n",
       "      <th>29</th>\n",
       "      <td>26.495</td>\n",
       "      <td>66.065</td>\n",
       "    </tr>\n",
       "    <tr>\n",
       "      <th>30</th>\n",
       "      <td>26.535</td>\n",
       "      <td>60.068</td>\n",
       "    </tr>\n",
       "    <tr>\n",
       "      <th>31</th>\n",
       "      <td>28.687</td>\n",
       "      <td>65.432</td>\n",
       "    </tr>\n",
       "    <tr>\n",
       "      <th>32</th>\n",
       "      <td>29.055</td>\n",
       "      <td>47.340</td>\n",
       "    </tr>\n",
       "    <tr>\n",
       "      <th>33</th>\n",
       "      <td>31.043</td>\n",
       "      <td>66.051</td>\n",
       "    </tr>\n",
       "    <tr>\n",
       "      <th>34</th>\n",
       "      <td>32.176</td>\n",
       "      <td>62.916</td>\n",
       "    </tr>\n",
       "    <tr>\n",
       "      <th>35</th>\n",
       "      <td>32.203</td>\n",
       "      <td>62.892</td>\n",
       "    </tr>\n",
       "    <tr>\n",
       "      <th>36</th>\n",
       "      <td>32.226</td>\n",
       "      <td>52.066</td>\n",
       "    </tr>\n",
       "    <tr>\n",
       "      <th>37</th>\n",
       "      <td>32.268</td>\n",
       "      <td>75.787</td>\n",
       "    </tr>\n",
       "    <tr>\n",
       "      <th>38</th>\n",
       "      <td>32.711</td>\n",
       "      <td>71.807</td>\n",
       "    </tr>\n",
       "    <tr>\n",
       "      <th>39</th>\n",
       "      <td>32.886</td>\n",
       "      <td>63.339</td>\n",
       "    </tr>\n",
       "    <tr>\n",
       "      <th>40</th>\n",
       "      <td>34.489</td>\n",
       "      <td>59.794</td>\n",
       "    </tr>\n",
       "    <tr>\n",
       "      <th>41</th>\n",
       "      <td>34.889</td>\n",
       "      <td>63.983</td>\n",
       "    </tr>\n",
       "    <tr>\n",
       "      <th>42</th>\n",
       "      <td>37.299</td>\n",
       "      <td>68.714</td>\n",
       "    </tr>\n",
       "    <tr>\n",
       "      <th>43</th>\n",
       "      <td>40.875</td>\n",
       "      <td>70.767</td>\n",
       "    </tr>\n",
       "    <tr>\n",
       "      <th>44</th>\n",
       "      <td>41.249</td>\n",
       "      <td>88.973</td>\n",
       "    </tr>\n",
       "    <tr>\n",
       "      <th>45</th>\n",
       "      <td>45.213</td>\n",
       "      <td>76.957</td>\n",
       "    </tr>\n",
       "    <tr>\n",
       "      <th>46</th>\n",
       "      <td>45.397</td>\n",
       "      <td>78.698</td>\n",
       "    </tr>\n",
       "    <tr>\n",
       "      <th>47</th>\n",
       "      <td>46.923</td>\n",
       "      <td>90.384</td>\n",
       "    </tr>\n",
       "    <tr>\n",
       "      <th>48</th>\n",
       "      <td>47.818</td>\n",
       "      <td>94.945</td>\n",
       "    </tr>\n",
       "    <tr>\n",
       "      <th>49</th>\n",
       "      <td>48.011</td>\n",
       "      <td>86.968</td>\n",
       "    </tr>\n",
       "  </tbody>\n",
       "</table>\n",
       "</div>"
      ],
      "text/plain": [
       "    revision_time  exam_score\n",
       "0           2.723      27.682\n",
       "1           2.844      22.998\n",
       "2           3.303      19.765\n",
       "3           3.588      24.481\n",
       "4           4.050      22.974\n",
       "5           4.080      27.086\n",
       "6           5.674      26.136\n",
       "7           6.060      27.038\n",
       "8           6.347      31.283\n",
       "9           6.819      14.731\n",
       "10          7.098      28.946\n",
       "11          7.515      26.901\n",
       "12          8.356      35.299\n",
       "13          9.214      24.228\n",
       "14         10.364      34.651\n",
       "15         10.510      34.667\n",
       "16         12.102      34.848\n",
       "17         13.187      37.266\n",
       "18         16.692      43.491\n",
       "19         16.977      45.201\n",
       "20         18.330      40.924\n",
       "21         19.599      48.321\n",
       "22         20.321      49.574\n",
       "23         21.280      47.239\n",
       "24         21.578      45.582\n",
       "25         21.798      53.182\n",
       "26         22.048      39.956\n",
       "27         24.949      52.697\n",
       "28         25.147      54.900\n",
       "29         26.495      66.065\n",
       "30         26.535      60.068\n",
       "31         28.687      65.432\n",
       "32         29.055      47.340\n",
       "33         31.043      66.051\n",
       "34         32.176      62.916\n",
       "35         32.203      62.892\n",
       "36         32.226      52.066\n",
       "37         32.268      75.787\n",
       "38         32.711      71.807\n",
       "39         32.886      63.339\n",
       "40         34.489      59.794\n",
       "41         34.889      63.983\n",
       "42         37.299      68.714\n",
       "43         40.875      70.767\n",
       "44         41.249      88.973\n",
       "45         45.213      76.957\n",
       "46         45.397      78.698\n",
       "47         46.923      90.384\n",
       "48         47.818      94.945\n",
       "49         48.011      86.968"
      ]
     },
     "execution_count": 56,
     "metadata": {},
     "output_type": "execute_result"
    }
   ],
   "source": [
    "data_path = os.path.join(os.getcwd(), 'data', 'regression_part1.csv')\n",
    "regression_part1 = pd.read_csv(data_path, delimiter = ',')\n",
    "regression_part1"
   ]
  },
  {
   "cell_type": "code",
   "execution_count": 36,
   "metadata": {},
   "outputs": [
    {
     "name": "stdout",
     "output_type": "stream",
     "text": [
      "Data Description:\n",
      "Number of data:50\n",
      "Number of Attribute:2\n",
      "Data size is: 100\n"
     ]
    },
    {
     "data": {
      "text/plain": [
       "revision_time    float64\n",
       "exam_score       float64\n",
       "dtype: object"
      ]
     },
     "execution_count": 36,
     "metadata": {},
     "output_type": "execute_result"
    }
   ],
   "source": [
    "# focus on size, data ranges, and data types\n",
    "row,col=regression_part1.shape\n",
    "print('Data Description:\\nNumber of data:{0}\\nNumber of Attribute:{1}'.format(row,col))\n",
    "regression_part1.describe()\n",
    "print('Data size is:',regression_part1.size)\n",
    "regression_part1.dtypes\n",
    "#print('revision_time range from',regression_part1.loc[regression_part1['revision_time']].max())"
   ]
  },
  {
   "cell_type": "code",
   "execution_count": 38,
   "metadata": {},
   "outputs": [
    {
     "data": {
      "text/html": [
       "<div>\n",
       "<style scoped>\n",
       "    .dataframe tbody tr th:only-of-type {\n",
       "        vertical-align: middle;\n",
       "    }\n",
       "\n",
       "    .dataframe tbody tr th {\n",
       "        vertical-align: top;\n",
       "    }\n",
       "\n",
       "    .dataframe thead th {\n",
       "        text-align: right;\n",
       "    }\n",
       "</style>\n",
       "<table border=\"1\" class=\"dataframe\">\n",
       "  <thead>\n",
       "    <tr style=\"text-align: right;\">\n",
       "      <th></th>\n",
       "      <th>revision_time</th>\n",
       "      <th>exam_score</th>\n",
       "    </tr>\n",
       "  </thead>\n",
       "  <tbody>\n",
       "    <tr>\n",
       "      <th>count</th>\n",
       "      <td>50.000000</td>\n",
       "      <td>50.000000</td>\n",
       "    </tr>\n",
       "    <tr>\n",
       "      <th>mean</th>\n",
       "      <td>22.220020</td>\n",
       "      <td>49.919860</td>\n",
       "    </tr>\n",
       "    <tr>\n",
       "      <th>std</th>\n",
       "      <td>13.986112</td>\n",
       "      <td>20.925594</td>\n",
       "    </tr>\n",
       "    <tr>\n",
       "      <th>min</th>\n",
       "      <td>2.723000</td>\n",
       "      <td>14.731000</td>\n",
       "    </tr>\n",
       "    <tr>\n",
       "      <th>25%</th>\n",
       "      <td>8.570500</td>\n",
       "      <td>32.125000</td>\n",
       "    </tr>\n",
       "    <tr>\n",
       "      <th>50%</th>\n",
       "      <td>21.688000</td>\n",
       "      <td>47.830500</td>\n",
       "    </tr>\n",
       "    <tr>\n",
       "      <th>75%</th>\n",
       "      <td>32.257500</td>\n",
       "      <td>65.069750</td>\n",
       "    </tr>\n",
       "    <tr>\n",
       "      <th>max</th>\n",
       "      <td>48.011000</td>\n",
       "      <td>94.945000</td>\n",
       "    </tr>\n",
       "  </tbody>\n",
       "</table>\n",
       "</div>"
      ],
      "text/plain": [
       "       revision_time  exam_score\n",
       "count      50.000000   50.000000\n",
       "mean       22.220020   49.919860\n",
       "std        13.986112   20.925594\n",
       "min         2.723000   14.731000\n",
       "25%         8.570500   32.125000\n",
       "50%        21.688000   47.830500\n",
       "75%        32.257500   65.069750\n",
       "max        48.011000   94.945000"
      ]
     },
     "execution_count": 38,
     "metadata": {},
     "output_type": "execute_result"
    }
   ],
   "source": [
    "regression_part1.describe()"
   ]
  },
  {
   "cell_type": "markdown",
   "metadata": {},
   "source": [
    "## Linear Regression"
   ]
  },
  {
   "cell_type": "markdown",
   "metadata": {},
   "source": [
    "(b) (3 points) Fit a linear model to the data so that we can predict exam_score from revision_time. Report the estimated model parameters w. Describe what the parameters represent for this 1D data. For this part, you should use the sklearn implementation of Linear Regression.\n",
    "Hint:  By default in sklearn fit_intercept = True.  Instead, set fit_intercept=False and pre-pend1 to each value of xi yourself to create φ(xi) = [1,xi]"
   ]
  },
  {
   "cell_type": "code",
   "execution_count": 81,
   "metadata": {},
   "outputs": [
    {
     "name": "stderr",
     "output_type": "stream",
     "text": [
      "/afs/inf.ed.ac.uk/user/s19/s1962306/miniconda3/envs/py3iaml/lib/python3.7/site-packages/ipykernel_launcher.py:3: FutureWarning: Method .as_matrix will be removed in a future version. Use .values instead.\n",
      "  This is separate from the ipykernel package so we can avoid doing imports until\n"
     ]
    },
    {
     "data": {
      "text/plain": [
       "array([[ 2.723],\n",
       "       [ 2.844],\n",
       "       [ 3.303],\n",
       "       [ 3.588],\n",
       "       [ 4.05 ],\n",
       "       [ 4.08 ],\n",
       "       [ 5.674],\n",
       "       [ 6.06 ],\n",
       "       [ 6.347],\n",
       "       [ 6.819],\n",
       "       [ 7.098],\n",
       "       [ 7.515],\n",
       "       [ 8.356],\n",
       "       [ 9.214],\n",
       "       [10.364],\n",
       "       [10.51 ],\n",
       "       [12.102],\n",
       "       [13.187],\n",
       "       [16.692],\n",
       "       [16.977],\n",
       "       [18.33 ],\n",
       "       [19.599],\n",
       "       [20.321],\n",
       "       [21.28 ],\n",
       "       [21.578],\n",
       "       [21.798],\n",
       "       [22.048],\n",
       "       [24.949],\n",
       "       [25.147],\n",
       "       [26.495],\n",
       "       [26.535],\n",
       "       [28.687],\n",
       "       [29.055],\n",
       "       [31.043],\n",
       "       [32.176],\n",
       "       [32.203],\n",
       "       [32.226],\n",
       "       [32.268],\n",
       "       [32.711],\n",
       "       [32.886],\n",
       "       [34.489],\n",
       "       [34.889],\n",
       "       [37.299],\n",
       "       [40.875],\n",
       "       [41.249],\n",
       "       [45.213],\n",
       "       [45.397],\n",
       "       [46.923],\n",
       "       [47.818],\n",
       "       [48.011]])"
      ]
     },
     "execution_count": 81,
     "metadata": {},
     "output_type": "execute_result"
    }
   ],
   "source": [
    "## prepare dataset for training\n",
    "prepend_array = np.full((50,1),1)\n",
    "x0=regression_part1['revision_time'].as_matrix()\n",
    "x0.reshape(50,1)"
   ]
  },
  {
   "cell_type": "code",
   "execution_count": 119,
   "metadata": {},
   "outputs": [
    {
     "data": {
      "text/plain": [
       "array([[ 1.   ,  2.723],\n",
       "       [ 1.   ,  2.844],\n",
       "       [ 1.   ,  3.303],\n",
       "       [ 1.   ,  3.588],\n",
       "       [ 1.   ,  4.05 ],\n",
       "       [ 1.   ,  4.08 ],\n",
       "       [ 1.   ,  5.674],\n",
       "       [ 1.   ,  6.06 ],\n",
       "       [ 1.   ,  6.347],\n",
       "       [ 1.   ,  6.819],\n",
       "       [ 1.   ,  7.098],\n",
       "       [ 1.   ,  7.515],\n",
       "       [ 1.   ,  8.356],\n",
       "       [ 1.   ,  9.214],\n",
       "       [ 1.   , 10.364],\n",
       "       [ 1.   , 10.51 ],\n",
       "       [ 1.   , 12.102],\n",
       "       [ 1.   , 13.187],\n",
       "       [ 1.   , 16.692],\n",
       "       [ 1.   , 16.977],\n",
       "       [ 1.   , 18.33 ],\n",
       "       [ 1.   , 19.599],\n",
       "       [ 1.   , 20.321],\n",
       "       [ 1.   , 21.28 ],\n",
       "       [ 1.   , 21.578],\n",
       "       [ 1.   , 21.798],\n",
       "       [ 1.   , 22.048],\n",
       "       [ 1.   , 24.949],\n",
       "       [ 1.   , 25.147],\n",
       "       [ 1.   , 26.495],\n",
       "       [ 1.   , 26.535],\n",
       "       [ 1.   , 28.687],\n",
       "       [ 1.   , 29.055],\n",
       "       [ 1.   , 31.043],\n",
       "       [ 1.   , 32.176],\n",
       "       [ 1.   , 32.203],\n",
       "       [ 1.   , 32.226],\n",
       "       [ 1.   , 32.268],\n",
       "       [ 1.   , 32.711],\n",
       "       [ 1.   , 32.886],\n",
       "       [ 1.   , 34.489],\n",
       "       [ 1.   , 34.889],\n",
       "       [ 1.   , 37.299],\n",
       "       [ 1.   , 40.875],\n",
       "       [ 1.   , 41.249],\n",
       "       [ 1.   , 45.213],\n",
       "       [ 1.   , 45.397],\n",
       "       [ 1.   , 46.923],\n",
       "       [ 1.   , 47.818],\n",
       "       [ 1.   , 48.011]])"
      ]
     },
     "execution_count": 119,
     "metadata": {},
     "output_type": "execute_result"
    }
   ],
   "source": [
    "x=np.column_stack((prepend_array,x0))\n",
    "x"
   ]
  },
  {
   "cell_type": "code",
   "execution_count": 136,
   "metadata": {},
   "outputs": [
    {
     "data": {
      "text/plain": [
       "LinearRegression(copy_X=True, fit_intercept=False, n_jobs=1, normalize=False)"
      ]
     },
     "execution_count": 136,
     "metadata": {},
     "output_type": "execute_result"
    }
   ],
   "source": [
    "#x_train=regression_part1['revision_time'][:,np.newaxis]\n",
    "x_train=x\n",
    "y_train=regression_part1['exam_score'][:,np.newaxis]\n",
    "\n",
    "#train a simple linear regression model\n",
    "regressor=LinearRegression(fit_intercept=False)\n",
    "regressor.fit(x_train,y_train)"
   ]
  },
  {
   "cell_type": "code",
   "execution_count": 137,
   "metadata": {},
   "outputs": [
    {
     "data": {
      "text/plain": [
       "array([[17.89768026,  1.44114091]])"
      ]
     },
     "execution_count": 137,
     "metadata": {},
     "output_type": "execute_result"
    }
   ],
   "source": [
    "# Report its parameters\n",
    "weight = regressor.coef_\n",
    "#print('Weight :{}'.format('%.3f'%weight))\n",
    "#print('intercept:{}'.format('%.3f'%intercp))\n",
    "weight"
   ]
  },
  {
   "cell_type": "markdown",
   "metadata": {},
   "source": [
    "#### (c) (3 points) Display the fitted linear model and the input data on the same plot"
   ]
  },
  {
   "cell_type": "code",
   "execution_count": 131,
   "metadata": {},
   "outputs": [
    {
     "data": {
      "text/plain": [
       "[<matplotlib.lines.Line2D at 0x2b65a4ce04d0>,\n",
       " <matplotlib.lines.Line2D at 0x2b65a5d3aed0>]"
      ]
     },
     "execution_count": 131,
     "metadata": {},
     "output_type": "execute_result"
    },
    {
     "data": {
      "image/png": "[encoded data removed]",
      "text/plain": [
       "<Figure size 864x576 with 1 Axes>"
      ]
     },
     "metadata": {
      "needs_background": "light"
     },
     "output_type": "display_data"
    }
   ],
   "source": [
    "fig,ax=plt.subplots(1,1,figsize=(12,8))\n",
    "ax.scatter(regression_part1['revision_time'],y_train,label='Trainning data')\n",
    "ax.plot(x,2.02*x,label='Linear Regression')"
   ]
  },
  {
   "cell_type": "markdown",
   "metadata": {},
   "source": [
    "#### (d) (3 points) Instead of using sklearn, implement the closed-form solution for fitting alinear regression model yourself using numpy array operations. Report your code in theanswer box. It should only take a few lines (i.e. <5).Hint: Only report the relevant lines for estimatingwe.g. we do not need to see the dataloading code. You can write the code in the answer box directly or paste in an image ofit"
   ]
  },
  {
   "cell_type": "code",
   "execution_count": null,
   "metadata": {},
   "outputs": [],
   "source": []
  }
 ],
 "metadata": {
  "kernelspec": {
   "display_name": "Python 3",
   "language": "python",
   "name": "python3"
  },
  "language_info": {
   "codemirror_mode": {
    "name": "ipython",
    "version": 3
   },
   "file_extension": ".py",
   "mimetype": "text/x-python",
   "name": "python",
   "nbconvert_exporter": "python",
   "pygments_lexer": "ipython3",
   "version": "3.7.7"
  }
 },
 "nbformat": 4,
 "nbformat_minor": 4
}
